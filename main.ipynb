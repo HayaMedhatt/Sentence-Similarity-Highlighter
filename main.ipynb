{
 "cells": [
  {
   "cell_type": "markdown",
   "metadata": {},
   "source": [
    "# 🌟 Sentence Similarity Highlighter 🌟\n",
    "\n",
    "This Jupyter Notebook provides a comprehensive overview of the Sentence Similarity Highlighter tool, which highlights similar sentences between two text files using advanced techniques.\n",
    "\n",
    "## 📚 Overview\n",
    "\n",
    "The **Sentence Similarity Highlighter** tool reads two text files, segments the content into sentences, computes the similarity between corresponding sentences, and highlights them in an HTML file based on their similarity scores.\n",
    "\n",
    "### 🚀 Features\n",
    "\n",
    "- **Advanced Similarity Measurement**: Uses sentence embeddings from the `sentence-transformers` library for precise similarity computation.\n",
    "- **Dynamic Color Mapping**: Displays sentences with colors ranging from blue (low similarity) to red (high similarity), enhancing visual analysis.\n",
    "- **Color Legend**: Includes a legend to interpret the color coding effectively.\n",
    "\n",
    "## 🛠️ Requirements\n",
    "\n",
    "Before running the code, ensure you have the following libraries installed:\n",
    "\n",
    "```bash\n",
    "pip install nltk sentence-transformers numpy\n"
   ]
  },
  {
   "cell_type": "markdown",
   "metadata": {},
   "source": [
    "## 📜 Code Walkthrough\n",
    "Let's go through the code step by step:\n",
    "\n",
    "1. Import Libraries"
   ]
  },
  {
   "cell_type": "code",
   "execution_count": null,
   "metadata": {},
   "outputs": [],
   "source": [
    "import os\n",
    "import nltk\n",
    "from sentence_transformers import SentenceTransformer, util\n",
    "import numpy as np"
   ]
  },
  {
   "cell_type": "markdown",
   "metadata": {},
   "source": [
    "2. Download NLTK Data\n"
   ]
  },
  {
   "cell_type": "code",
   "execution_count": null,
   "metadata": {},
   "outputs": [],
   "source": [
    "nltk.download('punkt')"
   ]
  },
  {
   "cell_type": "markdown",
   "metadata": {},
   "source": [
    "3. Load the Sentence Transformer Model\n"
   ]
  },
  {
   "cell_type": "code",
   "execution_count": null,
   "metadata": {},
   "outputs": [],
   "source": [
    "model = SentenceTransformer('paraphrase-MiniLM-L6-v2')"
   ]
  },
  {
   "cell_type": "markdown",
   "metadata": {},
   "source": [
    "4. Read File Function"
   ]
  },
  {
   "cell_type": "code",
   "execution_count": null,
   "metadata": {},
   "outputs": [],
   "source": [
    "def read_file(file_path):\n",
    "    \"\"\"Reads a text file and returns its content as a string.\"\"\"\n",
    "    with open(file_path, 'r', encoding='utf-8') as file:\n",
    "        return file.read()"
   ]
  },
  {
   "cell_type": "markdown",
   "metadata": {},
   "source": [
    "5. Segment Sentences"
   ]
  },
  {
   "cell_type": "code",
   "execution_count": null,
   "metadata": {},
   "outputs": [],
   "source": [
    "def segment_sentences(text):\n",
    "    \"\"\"Segments text into sentences.\"\"\"\n",
    "    return nltk.sent_tokenize(text)"
   ]
  },
  {
   "cell_type": "markdown",
   "metadata": {},
   "source": [
    "6. Compute Similarity"
   ]
  },
  {
   "cell_type": "code",
   "execution_count": null,
   "metadata": {},
   "outputs": [],
   "source": [
    "def compute_similarity(sentences1, sentences2):\n",
    "    \"\"\"Computes cosine similarity between corresponding sentences from two different files.\"\"\"\n",
    "    embeddings1 = model.encode(sentences1, convert_to_tensor=True)\n",
    "    embeddings2 = model.encode(sentences2, convert_to_tensor=True)\n",
    "    cosine_scores = util.pytorch_cos_sim(embeddings1, embeddings2)\n",
    "    return cosine_scores"
   ]
  },
  {
   "cell_type": "markdown",
   "metadata": {},
   "source": [
    "7. Color Mapping Function"
   ]
  },
  {
   "cell_type": "code",
   "execution_count": null,
   "metadata": {},
   "outputs": [],
   "source": [
    "def color_from_similarity(score):\n",
    "    \"\"\"Maps similarity scores to a color gradient with more categories.\"\"\"\n",
    "    if score < 0.2:\n",
    "        return 'rgb(0, 0, 255)'  # Blue\n",
    "    elif score < 0.4:\n",
    "        return 'rgb(173, 216, 230)'  # Light Blue\n",
    "    elif score < 0.6:\n",
    "        return 'rgb(128, 0, 128)'  # Purple\n",
    "    elif score < 0.8:\n",
    "        return 'rgb(255, 160, 122)'  # Light Red\n",
    "    else:\n",
    "        return 'rgb(255, 0, 0)'  # Red"
   ]
  },
  {
   "cell_type": "markdown",
   "metadata": {},
   "source": [
    "8. Highlight Sentences"
   ]
  },
  {
   "cell_type": "code",
   "execution_count": null,
   "metadata": {},
   "outputs": [],
   "source": [
    "def highlight_sentences(sentences1, sentences2, sim_matrix):\n",
    "    \"\"\"Wraps sentences in HTML <span> tags with background colors based on similarity.\"\"\"\n",
    "    html_sentences1 = []\n",
    "    html_sentences2 = []\n",
    "    \n",
    "    for i, sentence in enumerate(sentences1):\n",
    "        if i < len(sentences2):\n",
    "            score = sim_matrix[i, i].item()  # Get the score as a number\n",
    "            color = color_from_similarity(score)\n",
    "            html_sentences1.append(f'<span style=\"background-color:{color}; color:white\">{sentence}</span>')\n",
    "            html_sentences2.append(f'<span style=\"background-color:{color}; color:white\">{sentences2[i]}</span>')\n",
    "        else:\n",
    "            html_sentences1.append(f'<span>{sentence}</span>')\n",
    "    \n",
    "    return ' '.join(html_sentences1), ' '.join(html_sentences2)"
   ]
  },
  {
   "cell_type": "markdown",
   "metadata": {},
   "source": [
    "9. Save HTML Output"
   ]
  },
  {
   "cell_type": "code",
   "execution_count": null,
   "metadata": {},
   "outputs": [],
   "source": [
    "def save_html(content1, content2, output_file):\n",
    "    \"\"\"Saves the highlighted content from two files to an HTML file.\"\"\"\n",
    "    with open(output_file, 'w', encoding='utf-8') as file:\n",
    "        file.write('<html><head><style>body { font-family: Arial, sans-serif; }</style></head><body>')\n",
    "        file.write('<h2>Color Legend</h2>')\n",
    "        file.write('<div style=\"margin-bottom: 20px;\">')\n",
    "        file.write('<span style=\"background-color:rgb(0,0,255); color:white; padding:5px;\">Low Similarity</span>')\n",
    "        file.write('<span style=\"background-color:rgb(173,216,230); color:white; padding:5px; margin-left: 20px;\">Medium-Low Similarity</span>')\n",
    "        file.write('<span style=\"background-color:rgb(128,0,128); color:white; padding:5px; margin-left: 20px;\">Medium Similarity</span>')\n",
    "        file.write('<span style=\"background-color:rgb(255,160,122); color:white; padding:5px; margin-left: 20px;\">Medium-High Similarity</span>')\n",
    "        file.write('<span style=\"background-color:rgb(255,0,0); color:white; padding:5px; margin-left: 20px;\">High Similarity</span>')\n",
    "        file.write('</div>')\n",
    "        file.write('<h2>File 1 Content</h2>')\n",
    "        file.write(content1)\n",
    "        file.write('<h2>File 2 Content</h2>')\n",
    "        file.write(content2)\n",
    "        file.write('</body></html>')"
   ]
  },
  {
   "cell_type": "markdown",
   "metadata": {},
   "source": [
    "10. Main Function"
   ]
  },
  {
   "cell_type": "code",
   "execution_count": null,
   "metadata": {},
   "outputs": [],
   "source": [
    "def main(file1_path, file2_path, output_file):\n",
    "    \"\"\"Main function to process files and save highlighted sentences to an HTML file.\"\"\"\n",
    "    text1 = read_file(file1_path)\n",
    "    text2 = read_file(file2_path)\n",
    "    \n",
    "    sentences1 = segment_sentences(text1)\n",
    "    sentences2 = segment_sentences(text2)\n",
    "    \n",
    "    sim_matrix = compute_similarity(sentences1, sentences2)\n",
    "    \n",
    "    highlighted_content1, highlighted_content2 = highlight_sentences(sentences1, sentences2, sim_matrix)\n",
    "    \n",
    "    save_html(highlighted_content1, highlighted_content2, output_file)"
   ]
  },
  {
   "cell_type": "markdown",
   "metadata": {},
   "source": [
    "🏁 Running the Tool"
   ]
  },
  {
   "cell_type": "code",
   "execution_count": null,
   "metadata": {},
   "outputs": [],
   "source": [
    "if __name__ == \"__main__\":\n",
    "    file1_path = 'file1.txt'  \n",
    "    file2_path = 'file2.txt'  \n",
    "    output_file = 'highlighted.html'\n",
    "    main(file1_path, file2_path, output_file)"
   ]
  }
 ],
 "metadata": {
  "kernelspec": {
   "display_name": "base",
   "language": "python",
   "name": "python3"
  },
  "language_info": {
   "codemirror_mode": {
    "name": "ipython",
    "version": 3
   },
   "file_extension": ".py",
   "mimetype": "text/x-python",
   "name": "python",
   "nbconvert_exporter": "python",
   "pygments_lexer": "ipython3",
   "version": "3.9.16"
  }
 },
 "nbformat": 4,
 "nbformat_minor": 2
}
